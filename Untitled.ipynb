{
 "cells": [
  {
   "cell_type": "code",
   "execution_count": 1,
   "metadata": {},
   "outputs": [],
   "source": [
    "from spade.behaviour import CyclicBehaviour\n",
    "from spade.agent import Agent\n",
    "from spade.message import Message"
   ]
  },
  {
   "cell_type": "code",
   "execution_count": 2,
   "metadata": {},
   "outputs": [],
   "source": [
    "import time\n",
    "import asyncio\n",
    "import ast\n",
    "import random"
   ]
  },
  {
   "cell_type": "code",
   "execution_count": 3,
   "metadata": {},
   "outputs": [],
   "source": [
    "import warnings\n",
    "warnings.filterwarnings('ignore')\n",
    "warnings.simplefilter('ignore')"
   ]
  },
  {
   "cell_type": "code",
   "execution_count": 4,
   "metadata": {},
   "outputs": [],
   "source": [
    "LISTAG = []\n",
    "NUMAG = 8"
   ]
  },
  {
   "cell_type": "code",
   "execution_count": 5,
   "metadata": {},
   "outputs": [],
   "source": [
    "def foo(x):\n",
    "    return x ** 2 + 2 * x + 1"
   ]
  },
  {
   "cell_type": "code",
   "execution_count": 6,
   "metadata": {},
   "outputs": [],
   "source": [
    "class MyBehav(CyclicBehaviour):\n",
    "    my_name = \"\"\n",
    "    my_work_result = 0\n",
    "    my_neighboors = []\n",
    "    all_my_info = {}\n",
    "\n",
    "    def __init__(self, my_name, my_neighboors):\n",
    "        self.my_neighboors = my_neighboors\n",
    "        self.my_name = my_name\n",
    "        self.all_my_info = {self.my_name: -1}\n",
    "        super().__init__()\n",
    "\n",
    "    async def on_start(self):\n",
    "        self.my_work_result = int(foo(random.uniform(0, 10)))\n",
    "        self.all_my_info.update({self.my_name: self.my_work_result})\n",
    "        await asyncio.sleep(8)\n",
    "  \n",
    "    async def run(self):  \n",
    "        for neighboor in self.my_neighboors:\n",
    "            msg_s = Message(to=neighboor)\n",
    "            msg_s.body = str(self.all_my_info)\n",
    "            await self.send(msg_s)\n",
    "        \n",
    "       # if (self.my_name == \"user_name_1@404.city\"):\n",
    "        #    print(\"Result{}\".format(self.all_my_info))\n",
    "            # LISTAG = list(self.all_my_info.keys())\n",
    "        \n",
    "            if (len(self.all_my_info) == NUMAG):\n",
    "                print(sum(self.all_my_info.values()) / NUMAG)\n",
    "                print(\"Finished!\")\n",
    "                exit(0)\n",
    "           \n",
    "        msg = await self.receive(timeout=1)\n",
    "        if (msg):\n",
    "            self.all_my_info.update(ast.literal_eval(msg.body))\n",
    "            \n",
    "        await asyncio.sleep(3)"
   ]
  },
  {
   "cell_type": "code",
   "execution_count": 7,
   "metadata": {},
   "outputs": [],
   "source": [
    "class DummyAgent(Agent):\n",
    "    my_agent_name = \"\"\n",
    "    neighboors = []\n",
    "\n",
    "    async def setup(self):\n",
    "        b = MyBehav(self.my_agent_name, self.neighboors)\n",
    "        self.add_behaviour(b)\n",
    "\n",
    "    def __init__(self, name, password, neighboors):\n",
    "        super(DummyAgent, self).__init__(name, password)\n",
    "        self.my_agent_name = name\n",
    "        self.neighboors = neighboors\n"
   ]
  },
  {
   "cell_type": "code",
   "execution_count": 8,
   "metadata": {},
   "outputs": [
    {
     "name": "stderr",
     "output_type": "stream",
     "text": [
      "No behaviour matched for message: <message to=\"user_name_3@404.city\" from=\"user_name_1@404.city\" thread=\"None\" metadata={}>\n",
      "{'user_name_1@404.city': 6}\n",
      "</message>\n",
      "No behaviour matched for message: <message to=\"user_name_4@404.city\" from=\"user_name_1@404.city\" thread=\"None\" metadata={}>\n",
      "{'user_name_1@404.city': 6}\n",
      "</message>\n"
     ]
    },
    {
     "name": "stdout",
     "output_type": "stream",
     "text": [
      "Result{'user_name_1@404.city': 6}\n"
     ]
    },
    {
     "name": "stderr",
     "output_type": "stream",
     "text": [
      "No behaviour matched for message: <message to=\"user_name_8@404.city\" from=\"user_name_7@404.city\" thread=\"None\" metadata={}>\n",
      "{'user_name_7@404.city': 69}\n",
      "</message>\n"
     ]
    },
    {
     "name": "stdout",
     "output_type": "stream",
     "text": [
      "Result{'user_name_1@404.city': 6, 'user_name_2@404.city': 60}\n",
      "Result{'user_name_1@404.city': 6, 'user_name_2@404.city': 60}\n"
     ]
    },
    {
     "name": "stderr",
     "output_type": "stream",
     "text": [
      "No behaviour matched for message: <message to=\"user_name_6@404.city\" from=\"user_name_4@404.city\" thread=\"None\" metadata={}>\n",
      "{'user_name_4@404.city': 91}\n",
      "</message>\n"
     ]
    },
    {
     "name": "stdout",
     "output_type": "stream",
     "text": [
      "Result{'user_name_1@404.city': 6, 'user_name_2@404.city': 60}\n"
     ]
    },
    {
     "name": "stderr",
     "output_type": "stream",
     "text": [
      "No behaviour matched for message: <message to=\"user_name_6@404.city\" from=\"user_name_4@404.city\" thread=\"None\" metadata={}>\n",
      "{'user_name_4@404.city': 91, 'user_name_7@404.city': 69}\n",
      "</message>\n"
     ]
    },
    {
     "name": "stdout",
     "output_type": "stream",
     "text": [
      "Result{'user_name_1@404.city': 6, 'user_name_2@404.city': 60, 'user_name_4@404.city': 91}\n"
     ]
    },
    {
     "name": "stderr",
     "output_type": "stream",
     "text": [
      "No behaviour matched for message: <message to=\"user_name_6@404.city\" from=\"user_name_4@404.city\" thread=\"None\" metadata={}>\n",
      "{'user_name_4@404.city': 91, 'user_name_7@404.city': 69, 'user_name_1@404.city': 6, 'user_name_2@404.city': 60}\n",
      "</message>\n"
     ]
    },
    {
     "name": "stdout",
     "output_type": "stream",
     "text": [
      "Result{'user_name_1@404.city': 6, 'user_name_2@404.city': 60, 'user_name_4@404.city': 91, 'user_name_3@404.city': 70}\n"
     ]
    },
    {
     "name": "stderr",
     "output_type": "stream",
     "text": [
      "No behaviour matched for message: <message to=\"user_name_6@404.city\" from=\"user_name_4@404.city\" thread=\"None\" metadata={}>\n",
      "{'user_name_4@404.city': 91, 'user_name_7@404.city': 69, 'user_name_1@404.city': 6, 'user_name_2@404.city': 60}\n",
      "</message>\n"
     ]
    },
    {
     "name": "stdout",
     "output_type": "stream",
     "text": [
      "Result{'user_name_1@404.city': 6, 'user_name_2@404.city': 60, 'user_name_4@404.city': 91, 'user_name_3@404.city': 70}\n"
     ]
    },
    {
     "name": "stderr",
     "output_type": "stream",
     "text": [
      "No behaviour matched for message: <message to=\"user_name_6@404.city\" from=\"user_name_4@404.city\" thread=\"None\" metadata={}>\n",
      "{'user_name_4@404.city': 91, 'user_name_7@404.city': 69, 'user_name_1@404.city': 6, 'user_name_2@404.city': 60}\n",
      "</message>\n"
     ]
    },
    {
     "name": "stdout",
     "output_type": "stream",
     "text": [
      "Result{'user_name_1@404.city': 6, 'user_name_2@404.city': 60, 'user_name_4@404.city': 91, 'user_name_3@404.city': 70, 'user_name_7@404.city': 69}\n"
     ]
    },
    {
     "name": "stderr",
     "output_type": "stream",
     "text": [
      "No behaviour matched for message: <message to=\"user_name_6@404.city\" from=\"user_name_4@404.city\" thread=\"None\" metadata={}>\n",
      "{'user_name_4@404.city': 91, 'user_name_7@404.city': 69, 'user_name_1@404.city': 6, 'user_name_2@404.city': 60}\n",
      "</message>\n"
     ]
    },
    {
     "name": "stdout",
     "output_type": "stream",
     "text": [
      "Result{'user_name_1@404.city': 6, 'user_name_2@404.city': 60, 'user_name_4@404.city': 91, 'user_name_3@404.city': 70, 'user_name_7@404.city': 69}\n"
     ]
    },
    {
     "name": "stderr",
     "output_type": "stream",
     "text": [
      "No behaviour matched for message: <message to=\"user_name_6@404.city\" from=\"user_name_4@404.city\" thread=\"None\" metadata={}>\n",
      "{'user_name_4@404.city': 91, 'user_name_7@404.city': 69, 'user_name_1@404.city': 6, 'user_name_2@404.city': 60}\n",
      "</message>\n"
     ]
    },
    {
     "name": "stdout",
     "output_type": "stream",
     "text": [
      "Result{'user_name_1@404.city': 6, 'user_name_2@404.city': 60, 'user_name_4@404.city': 91, 'user_name_3@404.city': 70, 'user_name_7@404.city': 69}\n",
      "Result{'user_name_1@404.city': 6, 'user_name_2@404.city': 60, 'user_name_4@404.city': 91, 'user_name_3@404.city': 70, 'user_name_7@404.city': 69}\n",
      "Result{'user_name_1@404.city': 6, 'user_name_2@404.city': 60, 'user_name_4@404.city': 91, 'user_name_3@404.city': 70, 'user_name_7@404.city': 69}\n",
      "Result{'user_name_1@404.city': 6, 'user_name_2@404.city': 60, 'user_name_4@404.city': 91, 'user_name_3@404.city': 70, 'user_name_7@404.city': 69}\n",
      "Result{'user_name_1@404.city': 6, 'user_name_2@404.city': 60, 'user_name_4@404.city': 91, 'user_name_3@404.city': 70, 'user_name_7@404.city': 69}\n",
      "Result{'user_name_1@404.city': 6, 'user_name_2@404.city': 60, 'user_name_4@404.city': 91, 'user_name_3@404.city': 70, 'user_name_7@404.city': 69}\n",
      "Result{'user_name_1@404.city': 6, 'user_name_2@404.city': 60, 'user_name_4@404.city': 91, 'user_name_3@404.city': 70, 'user_name_7@404.city': 69}\n",
      "Result{'user_name_1@404.city': 6, 'user_name_2@404.city': 60, 'user_name_4@404.city': 91, 'user_name_3@404.city': 70, 'user_name_7@404.city': 69}\n",
      "Result{'user_name_1@404.city': 6, 'user_name_2@404.city': 60, 'user_name_4@404.city': 91, 'user_name_3@404.city': 70, 'user_name_7@404.city': 69}\n",
      "Result{'user_name_1@404.city': 6, 'user_name_2@404.city': 60, 'user_name_4@404.city': 91, 'user_name_3@404.city': 70, 'user_name_7@404.city': 69}\n",
      "Result{'user_name_1@404.city': 6, 'user_name_2@404.city': 60, 'user_name_4@404.city': 91, 'user_name_3@404.city': 70, 'user_name_7@404.city': 69}\n",
      "Result{'user_name_1@404.city': 6, 'user_name_2@404.city': 60, 'user_name_4@404.city': 91, 'user_name_3@404.city': 70, 'user_name_7@404.city': 69}\n",
      "Result{'user_name_1@404.city': 6, 'user_name_2@404.city': 60, 'user_name_4@404.city': 91, 'user_name_3@404.city': 70, 'user_name_7@404.city': 69}\n",
      "Result{'user_name_1@404.city': 6, 'user_name_2@404.city': 60, 'user_name_4@404.city': 91, 'user_name_3@404.city': 70, 'user_name_7@404.city': 69}\n",
      "Result{'user_name_1@404.city': 6, 'user_name_2@404.city': 60, 'user_name_4@404.city': 91, 'user_name_3@404.city': 70, 'user_name_7@404.city': 69}\n",
      "Result{'user_name_1@404.city': 6, 'user_name_2@404.city': 60, 'user_name_4@404.city': 91, 'user_name_3@404.city': 70, 'user_name_7@404.city': 69}\n",
      "Result{'user_name_1@404.city': 6, 'user_name_2@404.city': 60, 'user_name_4@404.city': 91, 'user_name_3@404.city': 70, 'user_name_7@404.city': 69}\n",
      "Result{'user_name_1@404.city': 6, 'user_name_2@404.city': 60, 'user_name_4@404.city': 91, 'user_name_3@404.city': 70, 'user_name_7@404.city': 69}\n",
      "Result{'user_name_1@404.city': 6, 'user_name_2@404.city': 60, 'user_name_4@404.city': 91, 'user_name_3@404.city': 70, 'user_name_7@404.city': 69}\n",
      "Result{'user_name_1@404.city': 6, 'user_name_2@404.city': 60, 'user_name_4@404.city': 91, 'user_name_3@404.city': 70, 'user_name_7@404.city': 69, 'user_name_5@404.city': 20}\n",
      "Result{'user_name_1@404.city': 6, 'user_name_2@404.city': 60, 'user_name_4@404.city': 91, 'user_name_3@404.city': 70, 'user_name_7@404.city': 69, 'user_name_5@404.city': 20}\n",
      "Result{'user_name_1@404.city': 6, 'user_name_2@404.city': 60, 'user_name_4@404.city': 91, 'user_name_3@404.city': 70, 'user_name_7@404.city': 69, 'user_name_5@404.city': 20}\n",
      "Result{'user_name_1@404.city': 6, 'user_name_2@404.city': 60, 'user_name_4@404.city': 91, 'user_name_3@404.city': 70, 'user_name_7@404.city': 69, 'user_name_5@404.city': 20}\n",
      "Result{'user_name_1@404.city': 6, 'user_name_2@404.city': 60, 'user_name_4@404.city': 91, 'user_name_3@404.city': 70, 'user_name_7@404.city': 69, 'user_name_5@404.city': 20}\n",
      "Result{'user_name_1@404.city': 6, 'user_name_2@404.city': 60, 'user_name_4@404.city': 91, 'user_name_3@404.city': 70, 'user_name_7@404.city': 69, 'user_name_5@404.city': 20}\n",
      "Result{'user_name_1@404.city': 6, 'user_name_2@404.city': 60, 'user_name_4@404.city': 91, 'user_name_3@404.city': 70, 'user_name_7@404.city': 69, 'user_name_5@404.city': 20}\n",
      "Result{'user_name_1@404.city': 6, 'user_name_2@404.city': 60, 'user_name_4@404.city': 91, 'user_name_3@404.city': 70, 'user_name_7@404.city': 69, 'user_name_5@404.city': 20}\n",
      "Result{'user_name_1@404.city': 6, 'user_name_2@404.city': 60, 'user_name_4@404.city': 91, 'user_name_3@404.city': 70, 'user_name_7@404.city': 69, 'user_name_5@404.city': 20}\n",
      "Result{'user_name_1@404.city': 6, 'user_name_2@404.city': 60, 'user_name_4@404.city': 91, 'user_name_3@404.city': 70, 'user_name_7@404.city': 69, 'user_name_5@404.city': 20}\n",
      "Result{'user_name_1@404.city': 6, 'user_name_2@404.city': 60, 'user_name_4@404.city': 91, 'user_name_3@404.city': 70, 'user_name_7@404.city': 69, 'user_name_5@404.city': 20}\n",
      "Result{'user_name_1@404.city': 6, 'user_name_2@404.city': 60, 'user_name_4@404.city': 91, 'user_name_3@404.city': 70, 'user_name_7@404.city': 69, 'user_name_5@404.city': 20}\n",
      "Result{'user_name_1@404.city': 6, 'user_name_2@404.city': 60, 'user_name_4@404.city': 91, 'user_name_3@404.city': 70, 'user_name_7@404.city': 69, 'user_name_5@404.city': 20}\n",
      "Result{'user_name_1@404.city': 6, 'user_name_2@404.city': 60, 'user_name_4@404.city': 91, 'user_name_3@404.city': 70, 'user_name_7@404.city': 69, 'user_name_5@404.city': 20}\n",
      "Result{'user_name_1@404.city': 6, 'user_name_2@404.city': 60, 'user_name_4@404.city': 91, 'user_name_3@404.city': 70, 'user_name_7@404.city': 69, 'user_name_5@404.city': 20}\n",
      "Result{'user_name_1@404.city': 6, 'user_name_2@404.city': 60, 'user_name_4@404.city': 91, 'user_name_3@404.city': 70, 'user_name_7@404.city': 69, 'user_name_5@404.city': 20}\n",
      "Result{'user_name_1@404.city': 6, 'user_name_2@404.city': 60, 'user_name_4@404.city': 91, 'user_name_3@404.city': 70, 'user_name_7@404.city': 69, 'user_name_5@404.city': 20}\n",
      "Result{'user_name_1@404.city': 6, 'user_name_2@404.city': 60, 'user_name_4@404.city': 91, 'user_name_3@404.city': 70, 'user_name_7@404.city': 69, 'user_name_5@404.city': 20}\n",
      "Result{'user_name_1@404.city': 6, 'user_name_2@404.city': 60, 'user_name_4@404.city': 91, 'user_name_3@404.city': 70, 'user_name_7@404.city': 69, 'user_name_5@404.city': 20}\n",
      "Result{'user_name_1@404.city': 6, 'user_name_2@404.city': 60, 'user_name_4@404.city': 91, 'user_name_3@404.city': 70, 'user_name_7@404.city': 69, 'user_name_5@404.city': 20}\n",
      "Result{'user_name_1@404.city': 6, 'user_name_2@404.city': 60, 'user_name_4@404.city': 91, 'user_name_3@404.city': 70, 'user_name_7@404.city': 69, 'user_name_5@404.city': 20}\n",
      "Result{'user_name_1@404.city': 6, 'user_name_2@404.city': 60, 'user_name_4@404.city': 91, 'user_name_3@404.city': 70, 'user_name_7@404.city': 69, 'user_name_5@404.city': 20, 'user_name_8@404.city': 17}\n",
      "Result{'user_name_1@404.city': 6, 'user_name_2@404.city': 60, 'user_name_4@404.city': 91, 'user_name_3@404.city': 70, 'user_name_7@404.city': 69, 'user_name_5@404.city': 20, 'user_name_8@404.city': 17}\n",
      "Result{'user_name_1@404.city': 6, 'user_name_2@404.city': 60, 'user_name_4@404.city': 91, 'user_name_3@404.city': 70, 'user_name_7@404.city': 69, 'user_name_5@404.city': 20, 'user_name_8@404.city': 17}\n",
      "Result{'user_name_1@404.city': 6, 'user_name_2@404.city': 60, 'user_name_4@404.city': 91, 'user_name_3@404.city': 70, 'user_name_7@404.city': 69, 'user_name_5@404.city': 20, 'user_name_8@404.city': 17}\n",
      "Result{'user_name_1@404.city': 6, 'user_name_2@404.city': 60, 'user_name_4@404.city': 91, 'user_name_3@404.city': 70, 'user_name_7@404.city': 69, 'user_name_5@404.city': 20, 'user_name_8@404.city': 17}\n",
      "Result{'user_name_1@404.city': 6, 'user_name_2@404.city': 60, 'user_name_4@404.city': 91, 'user_name_3@404.city': 70, 'user_name_7@404.city': 69, 'user_name_5@404.city': 20, 'user_name_8@404.city': 17}\n",
      "Result{'user_name_1@404.city': 6, 'user_name_2@404.city': 60, 'user_name_4@404.city': 91, 'user_name_3@404.city': 70, 'user_name_7@404.city': 69, 'user_name_5@404.city': 20, 'user_name_8@404.city': 17}\n",
      "Result{'user_name_1@404.city': 6, 'user_name_2@404.city': 60, 'user_name_4@404.city': 91, 'user_name_3@404.city': 70, 'user_name_7@404.city': 69, 'user_name_5@404.city': 20, 'user_name_8@404.city': 17}\n",
      "Result{'user_name_1@404.city': 6, 'user_name_2@404.city': 60, 'user_name_4@404.city': 91, 'user_name_3@404.city': 70, 'user_name_7@404.city': 69, 'user_name_5@404.city': 20, 'user_name_8@404.city': 17}\n"
     ]
    },
    {
     "name": "stdout",
     "output_type": "stream",
     "text": [
      "Result{'user_name_1@404.city': 6, 'user_name_2@404.city': 60, 'user_name_4@404.city': 91, 'user_name_3@404.city': 70, 'user_name_7@404.city': 69, 'user_name_5@404.city': 20, 'user_name_8@404.city': 17}\n",
      "Result{'user_name_1@404.city': 6, 'user_name_2@404.city': 60, 'user_name_4@404.city': 91, 'user_name_3@404.city': 70, 'user_name_7@404.city': 69, 'user_name_5@404.city': 20, 'user_name_8@404.city': 17}\n",
      "Result{'user_name_1@404.city': 6, 'user_name_2@404.city': 60, 'user_name_4@404.city': 91, 'user_name_3@404.city': 70, 'user_name_7@404.city': 69, 'user_name_5@404.city': 20, 'user_name_8@404.city': 17}\n",
      "Result{'user_name_1@404.city': 6, 'user_name_2@404.city': 60, 'user_name_4@404.city': 91, 'user_name_3@404.city': 70, 'user_name_7@404.city': 69, 'user_name_5@404.city': 20, 'user_name_8@404.city': 17}\n",
      "Result{'user_name_1@404.city': 6, 'user_name_2@404.city': 60, 'user_name_4@404.city': 91, 'user_name_3@404.city': 70, 'user_name_7@404.city': 69, 'user_name_5@404.city': 20, 'user_name_8@404.city': 17}\n",
      "Result{'user_name_1@404.city': 6, 'user_name_2@404.city': 60, 'user_name_4@404.city': 91, 'user_name_3@404.city': 70, 'user_name_7@404.city': 69, 'user_name_5@404.city': 20, 'user_name_8@404.city': 17}\n",
      "Result{'user_name_1@404.city': 6, 'user_name_2@404.city': 60, 'user_name_4@404.city': 91, 'user_name_3@404.city': 70, 'user_name_7@404.city': 69, 'user_name_5@404.city': 20, 'user_name_8@404.city': 17}\n",
      "Result{'user_name_1@404.city': 6, 'user_name_2@404.city': 60, 'user_name_4@404.city': 91, 'user_name_3@404.city': 70, 'user_name_7@404.city': 69, 'user_name_5@404.city': 20, 'user_name_8@404.city': 17}\n",
      "Result{'user_name_1@404.city': 6, 'user_name_2@404.city': 60, 'user_name_4@404.city': 91, 'user_name_3@404.city': 70, 'user_name_7@404.city': 69, 'user_name_5@404.city': 20, 'user_name_8@404.city': 17}\n",
      "Result{'user_name_1@404.city': 6, 'user_name_2@404.city': 60, 'user_name_4@404.city': 91, 'user_name_3@404.city': 70, 'user_name_7@404.city': 69, 'user_name_5@404.city': 20, 'user_name_8@404.city': 17}\n",
      "Result{'user_name_1@404.city': 6, 'user_name_2@404.city': 60, 'user_name_4@404.city': 91, 'user_name_3@404.city': 70, 'user_name_7@404.city': 69, 'user_name_5@404.city': 20, 'user_name_8@404.city': 17}\n",
      "Result{'user_name_1@404.city': 6, 'user_name_2@404.city': 60, 'user_name_4@404.city': 91, 'user_name_3@404.city': 70, 'user_name_7@404.city': 69, 'user_name_5@404.city': 20, 'user_name_8@404.city': 17}\n",
      "Result{'user_name_1@404.city': 6, 'user_name_2@404.city': 60, 'user_name_4@404.city': 91, 'user_name_3@404.city': 70, 'user_name_7@404.city': 69, 'user_name_5@404.city': 20, 'user_name_8@404.city': 17}\n",
      "Result{'user_name_1@404.city': 6, 'user_name_2@404.city': 60, 'user_name_4@404.city': 91, 'user_name_3@404.city': 70, 'user_name_7@404.city': 69, 'user_name_5@404.city': 20, 'user_name_8@404.city': 17}\n",
      "Result{'user_name_1@404.city': 6, 'user_name_2@404.city': 60, 'user_name_4@404.city': 91, 'user_name_3@404.city': 70, 'user_name_7@404.city': 69, 'user_name_5@404.city': 20, 'user_name_8@404.city': 17}\n",
      "Result{'user_name_1@404.city': 6, 'user_name_2@404.city': 60, 'user_name_4@404.city': 91, 'user_name_3@404.city': 70, 'user_name_7@404.city': 69, 'user_name_5@404.city': 20, 'user_name_8@404.city': 17}\n",
      "Result{'user_name_1@404.city': 6, 'user_name_2@404.city': 60, 'user_name_4@404.city': 91, 'user_name_3@404.city': 70, 'user_name_7@404.city': 69, 'user_name_5@404.city': 20, 'user_name_8@404.city': 17}\n",
      "Result{'user_name_1@404.city': 6, 'user_name_2@404.city': 60, 'user_name_4@404.city': 91, 'user_name_3@404.city': 70, 'user_name_7@404.city': 69, 'user_name_5@404.city': 20, 'user_name_8@404.city': 17}\n",
      "Result{'user_name_1@404.city': 6, 'user_name_2@404.city': 60, 'user_name_4@404.city': 91, 'user_name_3@404.city': 70, 'user_name_7@404.city': 69, 'user_name_5@404.city': 20, 'user_name_8@404.city': 17}\n",
      "Result{'user_name_1@404.city': 6, 'user_name_2@404.city': 60, 'user_name_4@404.city': 91, 'user_name_3@404.city': 70, 'user_name_7@404.city': 69, 'user_name_5@404.city': 20, 'user_name_8@404.city': 17}\n",
      "Result{'user_name_1@404.city': 6, 'user_name_2@404.city': 60, 'user_name_4@404.city': 91, 'user_name_3@404.city': 70, 'user_name_7@404.city': 69, 'user_name_5@404.city': 20, 'user_name_8@404.city': 17}\n",
      "Result{'user_name_1@404.city': 6, 'user_name_2@404.city': 60, 'user_name_4@404.city': 91, 'user_name_3@404.city': 70, 'user_name_7@404.city': 69, 'user_name_5@404.city': 20, 'user_name_8@404.city': 17}\n",
      "Result{'user_name_1@404.city': 6, 'user_name_2@404.city': 60, 'user_name_4@404.city': 91, 'user_name_3@404.city': 70, 'user_name_7@404.city': 69, 'user_name_5@404.city': 20, 'user_name_8@404.city': 17}\n",
      "Result{'user_name_1@404.city': 6, 'user_name_2@404.city': 60, 'user_name_4@404.city': 91, 'user_name_3@404.city': 70, 'user_name_7@404.city': 69, 'user_name_5@404.city': 20, 'user_name_8@404.city': 17}\n",
      "Result{'user_name_1@404.city': 6, 'user_name_2@404.city': 60, 'user_name_4@404.city': 91, 'user_name_3@404.city': 70, 'user_name_7@404.city': 69, 'user_name_5@404.city': 20, 'user_name_8@404.city': 17}\n",
      "Result{'user_name_1@404.city': 6, 'user_name_2@404.city': 60, 'user_name_4@404.city': 91, 'user_name_3@404.city': 70, 'user_name_7@404.city': 69, 'user_name_5@404.city': 20, 'user_name_8@404.city': 17}\n",
      "Result{'user_name_1@404.city': 6, 'user_name_2@404.city': 60, 'user_name_4@404.city': 91, 'user_name_3@404.city': 70, 'user_name_7@404.city': 69, 'user_name_5@404.city': 20, 'user_name_8@404.city': 17}\n",
      "Result{'user_name_1@404.city': 6, 'user_name_2@404.city': 60, 'user_name_4@404.city': 91, 'user_name_3@404.city': 70, 'user_name_7@404.city': 69, 'user_name_5@404.city': 20, 'user_name_8@404.city': 17}\n",
      "Result{'user_name_1@404.city': 6, 'user_name_2@404.city': 60, 'user_name_4@404.city': 91, 'user_name_3@404.city': 70, 'user_name_7@404.city': 69, 'user_name_5@404.city': 20, 'user_name_8@404.city': 17}\n",
      "Result{'user_name_1@404.city': 6, 'user_name_2@404.city': 60, 'user_name_4@404.city': 91, 'user_name_3@404.city': 70, 'user_name_7@404.city': 69, 'user_name_5@404.city': 20, 'user_name_8@404.city': 17}\n",
      "Result{'user_name_1@404.city': 6, 'user_name_2@404.city': 60, 'user_name_4@404.city': 91, 'user_name_3@404.city': 70, 'user_name_7@404.city': 69, 'user_name_5@404.city': 20, 'user_name_8@404.city': 17}\n",
      "Result{'user_name_1@404.city': 6, 'user_name_2@404.city': 60, 'user_name_4@404.city': 91, 'user_name_3@404.city': 70, 'user_name_7@404.city': 69, 'user_name_5@404.city': 20, 'user_name_8@404.city': 17}\n",
      "Result{'user_name_1@404.city': 6, 'user_name_2@404.city': 60, 'user_name_4@404.city': 91, 'user_name_3@404.city': 70, 'user_name_7@404.city': 69, 'user_name_5@404.city': 20, 'user_name_8@404.city': 17}\n",
      "Result{'user_name_1@404.city': 6, 'user_name_2@404.city': 60, 'user_name_4@404.city': 91, 'user_name_3@404.city': 70, 'user_name_7@404.city': 69, 'user_name_5@404.city': 20, 'user_name_8@404.city': 17}\n",
      "Result{'user_name_1@404.city': 6, 'user_name_2@404.city': 60, 'user_name_4@404.city': 91, 'user_name_3@404.city': 70, 'user_name_7@404.city': 69, 'user_name_5@404.city': 20, 'user_name_8@404.city': 17}\n",
      "Result{'user_name_1@404.city': 6, 'user_name_2@404.city': 60, 'user_name_4@404.city': 91, 'user_name_3@404.city': 70, 'user_name_7@404.city': 69, 'user_name_5@404.city': 20, 'user_name_8@404.city': 17}\n",
      "Result{'user_name_1@404.city': 6, 'user_name_2@404.city': 60, 'user_name_4@404.city': 91, 'user_name_3@404.city': 70, 'user_name_7@404.city': 69, 'user_name_5@404.city': 20, 'user_name_8@404.city': 17, 'user_name_6@404.city': 7}\n",
      "42.5\n",
      "Finished!\n",
      "Result{'user_name_1@404.city': 6, 'user_name_2@404.city': 60, 'user_name_4@404.city': 91, 'user_name_3@404.city': 70, 'user_name_7@404.city': 69, 'user_name_5@404.city': 20, 'user_name_8@404.city': 17, 'user_name_6@404.city': 7}\n",
      "42.5\n",
      "Finished!\n",
      "Result{'user_name_1@404.city': 6, 'user_name_2@404.city': 60, 'user_name_4@404.city': 91, 'user_name_3@404.city': 70, 'user_name_7@404.city': 69, 'user_name_5@404.city': 20, 'user_name_8@404.city': 17, 'user_name_6@404.city': 7}\n",
      "42.5\n",
      "Finished!\n",
      "Result{'user_name_1@404.city': 6, 'user_name_2@404.city': 60, 'user_name_4@404.city': 91, 'user_name_3@404.city': 70, 'user_name_7@404.city': 69, 'user_name_5@404.city': 20, 'user_name_8@404.city': 17, 'user_name_6@404.city': 7}\n",
      "42.5\n",
      "Finished!\n"
     ]
    },
    {
     "name": "stdout",
     "output_type": "stream",
     "text": [
      "Result{'user_name_1@404.city': 6, 'user_name_2@404.city': 60, 'user_name_4@404.city': 91, 'user_name_3@404.city': 70, 'user_name_7@404.city': 69, 'user_name_5@404.city': 20, 'user_name_8@404.city': 17, 'user_name_6@404.city': 7}\n",
      "42.5\n",
      "Finished!\n",
      "Result{'user_name_1@404.city': 6, 'user_name_2@404.city': 60, 'user_name_4@404.city': 91, 'user_name_3@404.city': 70, 'user_name_7@404.city': 69, 'user_name_5@404.city': 20, 'user_name_8@404.city': 17, 'user_name_6@404.city': 7}\n",
      "42.5\n",
      "Finished!\n",
      "Result{'user_name_1@404.city': 6, 'user_name_2@404.city': 60, 'user_name_4@404.city': 91, 'user_name_3@404.city': 70, 'user_name_7@404.city': 69, 'user_name_5@404.city': 20, 'user_name_8@404.city': 17, 'user_name_6@404.city': 7}\n",
      "42.5\n",
      "Finished!\n",
      "Result{'user_name_1@404.city': 6, 'user_name_2@404.city': 60, 'user_name_4@404.city': 91, 'user_name_3@404.city': 70, 'user_name_7@404.city': 69, 'user_name_5@404.city': 20, 'user_name_8@404.city': 17, 'user_name_6@404.city': 7}\n",
      "42.5\n",
      "Finished!\n",
      "Result{'user_name_1@404.city': 6, 'user_name_2@404.city': 60, 'user_name_4@404.city': 91, 'user_name_3@404.city': 70, 'user_name_7@404.city': 69, 'user_name_5@404.city': 20, 'user_name_8@404.city': 17, 'user_name_6@404.city': 7}\n",
      "42.5\n",
      "Finished!\n",
      "Result{'user_name_1@404.city': 6, 'user_name_2@404.city': 60, 'user_name_4@404.city': 91, 'user_name_3@404.city': 70, 'user_name_7@404.city': 69, 'user_name_5@404.city': 20, 'user_name_8@404.city': 17, 'user_name_6@404.city': 7}\n",
      "42.5\n",
      "Finished!\n",
      "Result{'user_name_1@404.city': 6, 'user_name_2@404.city': 60, 'user_name_4@404.city': 91, 'user_name_3@404.city': 70, 'user_name_7@404.city': 69, 'user_name_5@404.city': 20, 'user_name_8@404.city': 17, 'user_name_6@404.city': 7}\n",
      "42.5\n",
      "Finished!\n",
      "Result{'user_name_1@404.city': 6, 'user_name_2@404.city': 60, 'user_name_4@404.city': 91, 'user_name_3@404.city': 70, 'user_name_7@404.city': 69, 'user_name_5@404.city': 20, 'user_name_8@404.city': 17, 'user_name_6@404.city': 7}\n",
      "42.5\n",
      "Finished!\n",
      "Result{'user_name_1@404.city': 6, 'user_name_2@404.city': 60, 'user_name_4@404.city': 91, 'user_name_3@404.city': 70, 'user_name_7@404.city': 69, 'user_name_5@404.city': 20, 'user_name_8@404.city': 17, 'user_name_6@404.city': 7}\n",
      "42.5\n",
      "Finished!\n",
      "Result{'user_name_1@404.city': 6, 'user_name_2@404.city': 60, 'user_name_4@404.city': 91, 'user_name_3@404.city': 70, 'user_name_7@404.city': 69, 'user_name_5@404.city': 20, 'user_name_8@404.city': 17, 'user_name_6@404.city': 7}\n",
      "42.5\n",
      "Finished!\n",
      "Result{'user_name_1@404.city': 6, 'user_name_2@404.city': 60, 'user_name_4@404.city': 91, 'user_name_3@404.city': 70, 'user_name_7@404.city': 69, 'user_name_5@404.city': 20, 'user_name_8@404.city': 17, 'user_name_6@404.city': 7}\n",
      "42.5\n",
      "Finished!\n",
      "Result{'user_name_1@404.city': 6, 'user_name_2@404.city': 60, 'user_name_4@404.city': 91, 'user_name_3@404.city': 70, 'user_name_7@404.city': 69, 'user_name_5@404.city': 20, 'user_name_8@404.city': 17, 'user_name_6@404.city': 7}\n",
      "42.5\n",
      "Finished!\n",
      "Result{'user_name_1@404.city': 6, 'user_name_2@404.city': 60, 'user_name_4@404.city': 91, 'user_name_3@404.city': 70, 'user_name_7@404.city': 69, 'user_name_5@404.city': 20, 'user_name_8@404.city': 17, 'user_name_6@404.city': 7}\n",
      "42.5\n",
      "Finished!\n",
      "Result{'user_name_1@404.city': 6, 'user_name_2@404.city': 60, 'user_name_4@404.city': 91, 'user_name_3@404.city': 70, 'user_name_7@404.city': 69, 'user_name_5@404.city': 20, 'user_name_8@404.city': 17, 'user_name_6@404.city': 7}\n",
      "42.5\n",
      "Finished!\n",
      "Result{'user_name_1@404.city': 6, 'user_name_2@404.city': 60, 'user_name_4@404.city': 91, 'user_name_3@404.city': 70, 'user_name_7@404.city': 69, 'user_name_5@404.city': 20, 'user_name_8@404.city': 17, 'user_name_6@404.city': 7}\n",
      "42.5\n",
      "Finished!\n",
      "Result{'user_name_1@404.city': 6, 'user_name_2@404.city': 60, 'user_name_4@404.city': 91, 'user_name_3@404.city': 70, 'user_name_7@404.city': 69, 'user_name_5@404.city': 20, 'user_name_8@404.city': 17, 'user_name_6@404.city': 7}\n",
      "42.5\n",
      "Finished!\n",
      "Result{'user_name_1@404.city': 6, 'user_name_2@404.city': 60, 'user_name_4@404.city': 91, 'user_name_3@404.city': 70, 'user_name_7@404.city': 69, 'user_name_5@404.city': 20, 'user_name_8@404.city': 17, 'user_name_6@404.city': 7}\n",
      "42.5\n",
      "Finished!\n",
      "Result{'user_name_1@404.city': 6, 'user_name_2@404.city': 60, 'user_name_4@404.city': 91, 'user_name_3@404.city': 70, 'user_name_7@404.city': 69, 'user_name_5@404.city': 20, 'user_name_8@404.city': 17, 'user_name_6@404.city': 7}\n",
      "42.5\n",
      "Finished!\n",
      "Result{'user_name_1@404.city': 6, 'user_name_2@404.city': 60, 'user_name_4@404.city': 91, 'user_name_3@404.city': 70, 'user_name_7@404.city': 69, 'user_name_5@404.city': 20, 'user_name_8@404.city': 17, 'user_name_6@404.city': 7}\n",
      "42.5\n",
      "Finished!\n",
      "Result{'user_name_1@404.city': 6, 'user_name_2@404.city': 60, 'user_name_4@404.city': 91, 'user_name_3@404.city': 70, 'user_name_7@404.city': 69, 'user_name_5@404.city': 20, 'user_name_8@404.city': 17, 'user_name_6@404.city': 7}\n",
      "42.5\n",
      "Finished!\n",
      "Result{'user_name_1@404.city': 6, 'user_name_2@404.city': 60, 'user_name_4@404.city': 91, 'user_name_3@404.city': 70, 'user_name_7@404.city': 69, 'user_name_5@404.city': 20, 'user_name_8@404.city': 17, 'user_name_6@404.city': 7}\n",
      "42.5\n",
      "Finished!\n",
      "Result{'user_name_1@404.city': 6, 'user_name_2@404.city': 60, 'user_name_4@404.city': 91, 'user_name_3@404.city': 70, 'user_name_7@404.city': 69, 'user_name_5@404.city': 20, 'user_name_8@404.city': 17, 'user_name_6@404.city': 7}\n",
      "42.5\n",
      "Finished!\n",
      "Result{'user_name_1@404.city': 6, 'user_name_2@404.city': 60, 'user_name_4@404.city': 91, 'user_name_3@404.city': 70, 'user_name_7@404.city': 69, 'user_name_5@404.city': 20, 'user_name_8@404.city': 17, 'user_name_6@404.city': 7}\n",
      "42.5\n",
      "Finished!\n",
      "Result{'user_name_1@404.city': 6, 'user_name_2@404.city': 60, 'user_name_4@404.city': 91, 'user_name_3@404.city': 70, 'user_name_7@404.city': 69, 'user_name_5@404.city': 20, 'user_name_8@404.city': 17, 'user_name_6@404.city': 7}\n",
      "42.5\n",
      "Finished!\n",
      "Result{'user_name_1@404.city': 6, 'user_name_2@404.city': 60, 'user_name_4@404.city': 91, 'user_name_3@404.city': 70, 'user_name_7@404.city': 69, 'user_name_5@404.city': 20, 'user_name_8@404.city': 17, 'user_name_6@404.city': 7}\n",
      "42.5\n",
      "Finished!\n",
      "Result{'user_name_1@404.city': 6, 'user_name_2@404.city': 60, 'user_name_4@404.city': 91, 'user_name_3@404.city': 70, 'user_name_7@404.city': 69, 'user_name_5@404.city': 20, 'user_name_8@404.city': 17, 'user_name_6@404.city': 7}\n",
      "42.5\n",
      "Finished!\n",
      "Result{'user_name_1@404.city': 6, 'user_name_2@404.city': 60, 'user_name_4@404.city': 91, 'user_name_3@404.city': 70, 'user_name_7@404.city': 69, 'user_name_5@404.city': 20, 'user_name_8@404.city': 17, 'user_name_6@404.city': 7}\n",
      "42.5\n",
      "Finished!\n",
      "Result{'user_name_1@404.city': 6, 'user_name_2@404.city': 60, 'user_name_4@404.city': 91, 'user_name_3@404.city': 70, 'user_name_7@404.city': 69, 'user_name_5@404.city': 20, 'user_name_8@404.city': 17, 'user_name_6@404.city': 7}\n",
      "42.5\n",
      "Finished!\n",
      "Result{'user_name_1@404.city': 6, 'user_name_2@404.city': 60, 'user_name_4@404.city': 91, 'user_name_3@404.city': 70, 'user_name_7@404.city': 69, 'user_name_5@404.city': 20, 'user_name_8@404.city': 17, 'user_name_6@404.city': 7}\n",
      "42.5\n",
      "Finished!\n",
      "Result{'user_name_1@404.city': 6, 'user_name_2@404.city': 60, 'user_name_4@404.city': 91, 'user_name_3@404.city': 70, 'user_name_7@404.city': 69, 'user_name_5@404.city': 20, 'user_name_8@404.city': 17, 'user_name_6@404.city': 7}\n",
      "42.5\n",
      "Finished!\n",
      "Result{'user_name_1@404.city': 6, 'user_name_2@404.city': 60, 'user_name_4@404.city': 91, 'user_name_3@404.city': 70, 'user_name_7@404.city': 69, 'user_name_5@404.city': 20, 'user_name_8@404.city': 17, 'user_name_6@404.city': 7}\n",
      "42.5\n",
      "Finished!\n",
      "Result{'user_name_1@404.city': 6, 'user_name_2@404.city': 60, 'user_name_4@404.city': 91, 'user_name_3@404.city': 70, 'user_name_7@404.city': 69, 'user_name_5@404.city': 20, 'user_name_8@404.city': 17, 'user_name_6@404.city': 7}\n",
      "42.5\n",
      "Finished!\n",
      "Result{'user_name_1@404.city': 6, 'user_name_2@404.city': 60, 'user_name_4@404.city': 91, 'user_name_3@404.city': 70, 'user_name_7@404.city': 69, 'user_name_5@404.city': 20, 'user_name_8@404.city': 17, 'user_name_6@404.city': 7}\n",
      "42.5\n",
      "Finished!\n",
      "Result{'user_name_1@404.city': 6, 'user_name_2@404.city': 60, 'user_name_4@404.city': 91, 'user_name_3@404.city': 70, 'user_name_7@404.city': 69, 'user_name_5@404.city': 20, 'user_name_8@404.city': 17, 'user_name_6@404.city': 7}\n",
      "42.5\n",
      "Finished!\n"
     ]
    },
    {
     "name": "stdout",
     "output_type": "stream",
     "text": [
      "Result{'user_name_1@404.city': 6, 'user_name_2@404.city': 60, 'user_name_4@404.city': 91, 'user_name_3@404.city': 70, 'user_name_7@404.city': 69, 'user_name_5@404.city': 20, 'user_name_8@404.city': 17, 'user_name_6@404.city': 7}\n",
      "42.5\n",
      "Finished!\n",
      "Result{'user_name_1@404.city': 6, 'user_name_2@404.city': 60, 'user_name_4@404.city': 91, 'user_name_3@404.city': 70, 'user_name_7@404.city': 69, 'user_name_5@404.city': 20, 'user_name_8@404.city': 17, 'user_name_6@404.city': 7}\n",
      "42.5\n",
      "Finished!\n",
      "Result{'user_name_1@404.city': 6, 'user_name_2@404.city': 60, 'user_name_4@404.city': 91, 'user_name_3@404.city': 70, 'user_name_7@404.city': 69, 'user_name_5@404.city': 20, 'user_name_8@404.city': 17, 'user_name_6@404.city': 7}\n",
      "42.5\n",
      "Finished!\n",
      "Result{'user_name_1@404.city': 6, 'user_name_2@404.city': 60, 'user_name_4@404.city': 91, 'user_name_3@404.city': 70, 'user_name_7@404.city': 69, 'user_name_5@404.city': 20, 'user_name_8@404.city': 17, 'user_name_6@404.city': 7}\n",
      "42.5\n",
      "Finished!\n",
      "Result{'user_name_1@404.city': 6, 'user_name_2@404.city': 60, 'user_name_4@404.city': 91, 'user_name_3@404.city': 70, 'user_name_7@404.city': 69, 'user_name_5@404.city': 20, 'user_name_8@404.city': 17, 'user_name_6@404.city': 7}\n",
      "42.5\n",
      "Finished!\n",
      "Result{'user_name_1@404.city': 6, 'user_name_2@404.city': 60, 'user_name_4@404.city': 91, 'user_name_3@404.city': 70, 'user_name_7@404.city': 69, 'user_name_5@404.city': 20, 'user_name_8@404.city': 17, 'user_name_6@404.city': 7}\n",
      "42.5\n",
      "Finished!\n",
      "Result{'user_name_1@404.city': 6, 'user_name_2@404.city': 60, 'user_name_4@404.city': 91, 'user_name_3@404.city': 70, 'user_name_7@404.city': 69, 'user_name_5@404.city': 20, 'user_name_8@404.city': 17, 'user_name_6@404.city': 7}\n",
      "42.5\n",
      "Finished!\n",
      "Result{'user_name_1@404.city': 6, 'user_name_2@404.city': 60, 'user_name_4@404.city': 91, 'user_name_3@404.city': 70, 'user_name_7@404.city': 69, 'user_name_5@404.city': 20, 'user_name_8@404.city': 17, 'user_name_6@404.city': 7}\n",
      "42.5\n",
      "Finished!\n",
      "Result{'user_name_1@404.city': 6, 'user_name_2@404.city': 60, 'user_name_4@404.city': 91, 'user_name_3@404.city': 70, 'user_name_7@404.city': 69, 'user_name_5@404.city': 20, 'user_name_8@404.city': 17, 'user_name_6@404.city': 7}\n",
      "42.5\n",
      "Finished!\n",
      "Result{'user_name_1@404.city': 6, 'user_name_2@404.city': 60, 'user_name_4@404.city': 91, 'user_name_3@404.city': 70, 'user_name_7@404.city': 69, 'user_name_5@404.city': 20, 'user_name_8@404.city': 17, 'user_name_6@404.city': 7}\n",
      "42.5\n",
      "Finished!\n",
      "Result{'user_name_1@404.city': 6, 'user_name_2@404.city': 60, 'user_name_4@404.city': 91, 'user_name_3@404.city': 70, 'user_name_7@404.city': 69, 'user_name_5@404.city': 20, 'user_name_8@404.city': 17, 'user_name_6@404.city': 7}\n",
      "42.5\n",
      "Finished!\n",
      "Result{'user_name_1@404.city': 6, 'user_name_2@404.city': 60, 'user_name_4@404.city': 91, 'user_name_3@404.city': 70, 'user_name_7@404.city': 69, 'user_name_5@404.city': 20, 'user_name_8@404.city': 17, 'user_name_6@404.city': 7}\n",
      "42.5\n",
      "Finished!\n",
      "Result{'user_name_1@404.city': 6, 'user_name_2@404.city': 60, 'user_name_4@404.city': 91, 'user_name_3@404.city': 70, 'user_name_7@404.city': 69, 'user_name_5@404.city': 20, 'user_name_8@404.city': 17, 'user_name_6@404.city': 7}\n",
      "42.5\n",
      "Finished!\n",
      "Result{'user_name_1@404.city': 6, 'user_name_2@404.city': 60, 'user_name_4@404.city': 91, 'user_name_3@404.city': 70, 'user_name_7@404.city': 69, 'user_name_5@404.city': 20, 'user_name_8@404.city': 17, 'user_name_6@404.city': 7}\n",
      "42.5\n",
      "Finished!\n",
      "Result{'user_name_1@404.city': 6, 'user_name_2@404.city': 60, 'user_name_4@404.city': 91, 'user_name_3@404.city': 70, 'user_name_7@404.city': 69, 'user_name_5@404.city': 20, 'user_name_8@404.city': 17, 'user_name_6@404.city': 7}\n",
      "42.5\n",
      "Finished!\n",
      "Result{'user_name_1@404.city': 6, 'user_name_2@404.city': 60, 'user_name_4@404.city': 91, 'user_name_3@404.city': 70, 'user_name_7@404.city': 69, 'user_name_5@404.city': 20, 'user_name_8@404.city': 17, 'user_name_6@404.city': 7}\n",
      "42.5\n",
      "Finished!\n",
      "Result{'user_name_1@404.city': 6, 'user_name_2@404.city': 60, 'user_name_4@404.city': 91, 'user_name_3@404.city': 70, 'user_name_7@404.city': 69, 'user_name_5@404.city': 20, 'user_name_8@404.city': 17, 'user_name_6@404.city': 7}\n",
      "42.5\n",
      "Finished!\n",
      "Result{'user_name_1@404.city': 6, 'user_name_2@404.city': 60, 'user_name_4@404.city': 91, 'user_name_3@404.city': 70, 'user_name_7@404.city': 69, 'user_name_5@404.city': 20, 'user_name_8@404.city': 17, 'user_name_6@404.city': 7}\n",
      "42.5\n",
      "Finished!\n",
      "Result{'user_name_1@404.city': 6, 'user_name_2@404.city': 60, 'user_name_4@404.city': 91, 'user_name_3@404.city': 70, 'user_name_7@404.city': 69, 'user_name_5@404.city': 20, 'user_name_8@404.city': 17, 'user_name_6@404.city': 7}\n",
      "42.5\n",
      "Finished!\n",
      "Result{'user_name_1@404.city': 6, 'user_name_2@404.city': 60, 'user_name_4@404.city': 91, 'user_name_3@404.city': 70, 'user_name_7@404.city': 69, 'user_name_5@404.city': 20, 'user_name_8@404.city': 17, 'user_name_6@404.city': 7}\n",
      "42.5\n",
      "Finished!\n",
      "Result{'user_name_1@404.city': 6, 'user_name_2@404.city': 60, 'user_name_4@404.city': 91, 'user_name_3@404.city': 70, 'user_name_7@404.city': 69, 'user_name_5@404.city': 20, 'user_name_8@404.city': 17, 'user_name_6@404.city': 7}\n",
      "42.5\n",
      "Finished!\n"
     ]
    }
   ],
   "source": [
    "if __name__ == \"__main__\":\n",
    "    dummy1 = DummyAgent(\"user_name_1@404.city\", \"my_password_1\", [\"user_name_2@404.city\", \"user_name_3@404.city\", \n",
    "                                                                 \"user_name_4@404.city\"])\n",
    "    dummy2 = DummyAgent(\"user_name_2@404.city\", \"my_password_2\", [\"user_name_1@404.city\"])\n",
    "    dummy3 = DummyAgent(\"user_name_3@404.city\", \"my_password_3\", [\"user_name_1@404.city\"])\n",
    "    dummy4 = DummyAgent(\"user_name_4@404.city\", \"my_password_4\", [\"user_name_1@404.city\", \"user_name_5@404.city\", \n",
    "                                                                 \"user_name_6@404.city\", \"user_name_7@404.city\"])\n",
    "    dummy5 = DummyAgent(\"user_name_5@404.city\", \"my_password_5\", [\"user_name_4@404.city\"])\n",
    "    dummy6 = DummyAgent(\"user_name_6@404.city\", \"my_password_6\", [\"user_name_4@404.city\"])\n",
    "    dummy7 = DummyAgent(\"user_name_7@404.city\", \"my_password_7\", [\"user_name_4@404.city\", \"user_name_8@404.city\"])\n",
    "    dummy8 = DummyAgent(\"user_name_8@404.city\", \"my_password_8\", [\"user_name_7@404.city\"])\n",
    "\n",
    "    dummy1.start()\n",
    "    time.sleep(1)\n",
    "\n",
    "    dummy2.start()\n",
    "    time.sleep(1)\n",
    "\n",
    "    dummy3.start()\n",
    "    time.sleep(1)\n",
    "\n",
    "    dummy4.start()\n",
    "    time.sleep(1)\n",
    "\n",
    "    dummy5.start()\n",
    "    time.sleep(1)\n",
    "\n",
    "\n",
    "    dummy6.start()\n",
    "    time.sleep(1)\n",
    "\n",
    "    dummy7.start()\n",
    "    time.sleep(1)\n",
    "\n",
    "    dummy8.start()\n",
    "\n",
    "    while True:\n",
    "        try:\n",
    "            time.sleep(1)\n",
    "        except KeyboardInterrupt:\n",
    "            break\n",
    "\n",
    "    dummy1.stop()\n",
    "    dummy2.stop()\n",
    "    dummy3.stop()\n",
    "    dummy4.stop()\n",
    "    dummy5.stop()\n",
    "    dummy6.stop()\n",
    "    dummy7.stop()\n",
    "    dummy8.stop()"
   ]
  },
  {
   "cell_type": "code",
   "execution_count": null,
   "metadata": {},
   "outputs": [],
   "source": []
  },
  {
   "cell_type": "code",
   "execution_count": null,
   "metadata": {},
   "outputs": [],
   "source": []
  }
 ],
 "metadata": {
  "kernelspec": {
   "display_name": "Python 3",
   "language": "python",
   "name": "python3"
  },
  "language_info": {
   "codemirror_mode": {
    "name": "ipython",
    "version": 3
   },
   "file_extension": ".py",
   "mimetype": "text/x-python",
   "name": "python",
   "nbconvert_exporter": "python",
   "pygments_lexer": "ipython3",
   "version": "3.8.3"
  }
 },
 "nbformat": 4,
 "nbformat_minor": 4
}
